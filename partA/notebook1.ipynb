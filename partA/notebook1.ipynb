{
 "cells": [
  {
   "cell_type": "code",
   "execution_count": null,
   "id": "ebc1a698",
   "metadata": {},
   "outputs": [],
   "source": [
    "# !git clone https://github.com/soumitrapy/templatecv.git project\n",
    "# %cd project\n",
    "# !wget https://storage.googleapis.com/wandb_datasets/nature_12K.zip\n",
    "# !unzip nature_12K.zip -d data/"
   ]
  },
  {
   "cell_type": "code",
   "execution_count": null,
   "id": "3c96c29f",
   "metadata": {},
   "outputs": [],
   "source": [
    "# !git pull"
   ]
  },
  {
   "cell_type": "code",
   "execution_count": 1,
   "id": "9d3e977e",
   "metadata": {},
   "outputs": [],
   "source": [
    "import wandb\n",
    "import yaml\n",
    "import os\n",
    "from datetime import datetime\n",
    "\n",
    "import numpy as np\n",
    "from PIL import Image\n",
    "import matplotlib.pyplot as plt\n",
    "\n",
    "import torch\n",
    "from torch.utils.data import Dataset,DataLoader, random_split\n",
    "\n",
    "from torchvision import transforms\n",
    "#from torchvision.io import read_image"
   ]
  },
  {
   "cell_type": "code",
   "execution_count": 2,
   "id": "1b8b8420",
   "metadata": {},
   "outputs": [
    {
     "data": {
      "text/plain": [
       "{'project': 'dla2parta',\n",
       " 'use_wandb': False,\n",
       " 'dataset': {'name': 'CustomDataset',\n",
       "  'path': '../data/inaturalist_12K/',\n",
       "  'img_size': 256,\n",
       "  'class_names': ['Plantae',\n",
       "   'Mammalia',\n",
       "   'Animalia',\n",
       "   'Reptilia',\n",
       "   'Amphibia',\n",
       "   'Aves',\n",
       "   'Fungi',\n",
       "   'Arachnida',\n",
       "   'Mollusca',\n",
       "   'Insecta'],\n",
       "  'batch_size': 5},\n",
       " 'train': {'epochs': 1, 'val_interval': 1},\n",
       " 'model': {'name': 'simplecnn',\n",
       "  'in_channels': 3,\n",
       "  'num_classes': 10,\n",
       "  'num_layers': 5,\n",
       "  'filters': [16, 32, 64, 32, 16],\n",
       "  'kernel_size': 3,\n",
       "  'activation': 'relu',\n",
       "  'dense_neurons': 100}}"
      ]
     },
     "execution_count": 2,
     "metadata": {},
     "output_type": "execute_result"
    }
   ],
   "source": [
    "import yaml\n",
    "config = yaml.safe_load(open(\"config/smallcnn.yaml\"))\n",
    "\n",
    "# config['dataset']['batch_size']=32\n",
    "# config['train']['epochs']=1\n",
    "config\n"
   ]
  },
  {
   "cell_type": "code",
   "execution_count": 3,
   "id": "499ece3a",
   "metadata": {},
   "outputs": [],
   "source": [
    "import wandb\n",
    "if config.get('use_wandb',False):\n",
    "    wandb.login()"
   ]
  },
  {
   "cell_type": "markdown",
   "id": "6cb0e086",
   "metadata": {},
   "source": [
    "### DataLoader Creation"
   ]
  },
  {
   "cell_type": "code",
   "execution_count": 4,
   "id": "1245ca4e",
   "metadata": {},
   "outputs": [
    {
     "name": "stdout",
     "output_type": "stream",
     "text": [
      "train len: 9999, val len: 2000\n",
      "device = cpu\n"
     ]
    }
   ],
   "source": [
    "from preprocessing import CustomDataset\n",
    "from torchvision import transforms\n",
    "import torch\n",
    "\n",
    "# Data augmentation and normalization for training\n",
    "# Just normalization for validation\n",
    "cfg = config['dataset']\n",
    "\n",
    "data_transforms = {\n",
    "    'train': transforms.Compose([\n",
    "        transforms.RandomResizedCrop(cfg['img_size']),\n",
    "        transforms.RandomHorizontalFlip(),\n",
    "        transforms.ToTensor(),\n",
    "        transforms.Normalize([0.485, 0.456, 0.406], [0.229, 0.224, 0.225])\n",
    "    ]),\n",
    "    'val': transforms.Compose([\n",
    "        transforms.RandomResizedCrop(cfg['img_size']),\n",
    "        transforms.ToTensor(),\n",
    "        transforms.Normalize([0.485, 0.456, 0.406], [0.229, 0.224, 0.225])\n",
    "    ]),\n",
    "}\n",
    "splits = ['train', 'val']\n",
    "datasets = {x:CustomDataset(path= cfg['path']+x,\n",
    "                            class_names=cfg['class_names'],\n",
    "                            transform=data_transforms[x])\n",
    "            for x in splits}\n",
    "\n",
    "dataloaders = {x: torch.utils.data.DataLoader(datasets[x],\n",
    "                                              batch_size=cfg['batch_size'],\n",
    "                                              shuffle=True\n",
    "                                              )\n",
    "                for x in splits}\n",
    "\n",
    "class_names = datasets['train'].class_names\n",
    "print(f\"train len: {len(datasets['train'])}, val len: {len(datasets['val'])}\")\n",
    "\n",
    "# We want to be able to train our model on an `accelerator <https://pytorch.org/docs/stable/torch.html#accelerators>`__\n",
    "# such as CUDA, MPS, MTIA, or XPU. If the current accelerator is available, we will use it. Otherwise, we use the CPU.\n",
    "\n",
    "device = torch.device('cuda' if torch.cuda.is_available() else \"cpu\")\n",
    "print(f\"device = {device}\")"
   ]
  },
  {
   "cell_type": "code",
   "execution_count": null,
   "id": "a22d0683",
   "metadata": {},
   "outputs": [],
   "source": []
  },
  {
   "cell_type": "code",
   "execution_count": 6,
   "id": "0dd01199",
   "metadata": {},
   "outputs": [],
   "source": [
    "# # transform = transforms.Compose([\n",
    "# #         transforms.Resize(tuple(config['dataset']['img_size'])),\n",
    "# #         transforms.ToTensor()\n",
    "# #     ])\n",
    "# data_transforms = {\n",
    "#     'train': transforms.Compose([\n",
    "#         transforms.RandomResizedCrop(224),\n",
    "#         transforms.RandomHorizontalFlip(),\n",
    "#         transforms.ToTensor(),\n",
    "#         transforms.Normalize([0.485, 0.456, 0.406], [0.229, 0.224, 0.225])\n",
    "#     ]),\n",
    "#     'val': transforms.Compose([\n",
    "#         transforms.Resize(256),\n",
    "#         transforms.CenterCrop(224),\n",
    "#         transforms.ToTensor(),\n",
    "#         transforms.Normalize([0.485, 0.456, 0.406], [0.229, 0.224, 0.225])\n",
    "#     ]),\n",
    "# }\n",
    "# target_transform = None\n",
    "# train_path = config['dataset']['path']+\"train\"\n",
    "# test_path = config['dataset']['path']+\"val\"\n",
    "\n",
    "# trainds = CustomDataset(path=train_path,\n",
    "#                         class_names=config['dataset']['class_names'],\n",
    "#                         transform=data_transforms['train'],\n",
    "#                         target_transform=target_transform\n",
    "#                         )\n",
    "\n",
    "# val_split = int(0.2 * len(trainds))\n",
    "# trainds, valds = random_split(trainds, [len(trainds) - val_split, val_split])\n",
    "# testds = CustomDataset(path=test_path,\n",
    "#                         class_names=config['dataset']['class_names'],\n",
    "#                         transform=data_transforms['val'],\n",
    "#                         target_transform=target_transform\n",
    "#                         )\n",
    "# traindl = DataLoader(trainds, batch_size=config['dataset']['batch_size'])\n",
    "# valdl = DataLoader(valds, batch_size=config['dataset']['batch_size'])\n",
    "# testdl = DataLoader(testds, batch_size=config['dataset']['batch_size'])\n",
    "# print(len(trainds), len(valds), len(testds))"
   ]
  },
  {
   "cell_type": "code",
   "execution_count": 5,
   "id": "2213598f",
   "metadata": {},
   "outputs": [
    {
     "name": "stdout",
     "output_type": "stream",
     "text": [
      "torch.Size([5, 3, 256, 256]) torch.Size([5])\n"
     ]
    }
   ],
   "source": [
    "for x, y in dataloaders['train']:\n",
    "    print(x.shape,y.shape)\n",
    "    break"
   ]
  },
  {
   "cell_type": "markdown",
   "id": "1254d9c0",
   "metadata": {},
   "source": [
    "### Model"
   ]
  },
  {
   "cell_type": "code",
   "execution_count": 7,
   "id": "5365b7a0",
   "metadata": {},
   "outputs": [
    {
     "data": {
      "text/plain": [
       "torch.Size([5, 10])"
      ]
     },
     "execution_count": 7,
     "metadata": {},
     "output_type": "execute_result"
    }
   ],
   "source": [
    "from models.smallcnn import SmallCNN\n",
    "\n",
    "cfg = config['model']\n",
    "model = SmallCNN(cfg)\n",
    "model(x).shape"
   ]
  },
  {
   "cell_type": "code",
   "execution_count": 8,
   "id": "f4124940",
   "metadata": {},
   "outputs": [],
   "source": [
    "loss_fn = torch.nn.CrossEntropyLoss()\n",
    "optimizer = torch.optim.Adam(model.parameters(), lr = 0.001)\n",
    "scheduler = torch.optim.lr_scheduler.StepLR(optimizer, step_size=10, gamma=0.01)"
   ]
  },
  {
   "cell_type": "markdown",
   "id": "92b223be",
   "metadata": {},
   "source": [
    "### Training Loop"
   ]
  },
  {
   "cell_type": "code",
   "execution_count": null,
   "id": "27827cb3",
   "metadata": {},
   "outputs": [
    {
     "data": {
      "text/html": [],
      "text/plain": [
       "<IPython.core.display.HTML object>"
      ]
     },
     "metadata": {},
     "output_type": "display_data"
    },
    {
     "data": {
      "text/html": [
       " View run <strong style=\"color:#cdcd00\">DefaultModel21 09:28:1</strong> at: <a href='https://wandb.ai/soumitrapy-iit-madras/templatecv/runs/xwa0jyf9' target=\"_blank\">https://wandb.ai/soumitrapy-iit-madras/templatecv/runs/xwa0jyf9</a><br> View project at: <a href='https://wandb.ai/soumitrapy-iit-madras/templatecv' target=\"_blank\">https://wandb.ai/soumitrapy-iit-madras/templatecv</a><br>Synced 5 W&B file(s), 0 media file(s), 0 artifact file(s) and 0 other file(s)"
      ],
      "text/plain": [
       "<IPython.core.display.HTML object>"
      ]
     },
     "metadata": {},
     "output_type": "display_data"
    },
    {
     "data": {
      "text/html": [
       "Find logs at: <code>./wandb/run-20250421_092814-xwa0jyf9/logs</code>"
      ],
      "text/plain": [
       "<IPython.core.display.HTML object>"
      ]
     },
     "metadata": {},
     "output_type": "display_data"
    },
    {
     "data": {
      "text/html": [
       "Tracking run with wandb version 0.19.9"
      ],
      "text/plain": [
       "<IPython.core.display.HTML object>"
      ]
     },
     "metadata": {},
     "output_type": "display_data"
    },
    {
     "data": {
      "text/html": [
       "Run data is saved locally in <code>/home/po/Documents/sources/templatecv/wandb/run-20250421_092829-5qe5hsqm</code>"
      ],
      "text/plain": [
       "<IPython.core.display.HTML object>"
      ]
     },
     "metadata": {},
     "output_type": "display_data"
    },
    {
     "data": {
      "text/html": [
       "Syncing run <strong><a href='https://wandb.ai/soumitrapy-iit-madras/templatecv/runs/5qe5hsqm' target=\"_blank\">DefaultModel21 09:28:2</a></strong> to <a href='https://wandb.ai/soumitrapy-iit-madras/templatecv' target=\"_blank\">Weights & Biases</a> (<a href='https://wandb.me/developer-guide' target=\"_blank\">docs</a>)<br>"
      ],
      "text/plain": [
       "<IPython.core.display.HTML object>"
      ]
     },
     "metadata": {},
     "output_type": "display_data"
    },
    {
     "data": {
      "text/html": [
       " View project at <a href='https://wandb.ai/soumitrapy-iit-madras/templatecv' target=\"_blank\">https://wandb.ai/soumitrapy-iit-madras/templatecv</a>"
      ],
      "text/plain": [
       "<IPython.core.display.HTML object>"
      ]
     },
     "metadata": {},
     "output_type": "display_data"
    },
    {
     "data": {
      "text/html": [
       " View run at <a href='https://wandb.ai/soumitrapy-iit-madras/templatecv/runs/5qe5hsqm' target=\"_blank\">https://wandb.ai/soumitrapy-iit-madras/templatecv/runs/5qe5hsqm</a>"
      ],
      "text/plain": [
       "<IPython.core.display.HTML object>"
      ]
     },
     "metadata": {},
     "output_type": "display_data"
    },
    {
     "name": "stderr",
     "output_type": "stream",
     "text": [
      "Epoch 1: 100%|██████████| 2000/2000 [06:57<00:00,  4.78it/s, train_accuracy=15, train_loss=2.51]  \n",
      "Epoch 2: 100%|██████████| 2000/2000 [05:34<00:00,  5.99it/s, train_accuracy=15.4, train_loss=2.28]\n",
      "Validation: 100%|██████████| 400/400 [00:57<00:00,  6.95it/s, val_accuracy=15.4, val_loss=2.26]\n"
     ]
    },
    {
     "ename": "ValueError",
     "evalue": "Path is not a file: 'DefaultModel_cpuepoch121 09:42:0.pt'",
     "output_type": "error",
     "traceback": [
      "\u001b[31m---------------------------------------------------------------------------\u001b[39m",
      "\u001b[31mValueError\u001b[39m                                Traceback (most recent call last)",
      "\u001b[36mCell\u001b[39m\u001b[36m \u001b[39m\u001b[32mIn[11]\u001b[39m\u001b[32m, line 9\u001b[39m\n\u001b[32m      3\u001b[39m \u001b[38;5;28;01mif\u001b[39;00m config[\u001b[33m'\u001b[39m\u001b[33muse_wandb\u001b[39m\u001b[33m'\u001b[39m]:\n\u001b[32m      4\u001b[39m     wandb.init(\n\u001b[32m      5\u001b[39m         project=config[\u001b[33m'\u001b[39m\u001b[33mproject\u001b[39m\u001b[33m'\u001b[39m],\n\u001b[32m      6\u001b[39m         name = \u001b[38;5;28mtype\u001b[39m(model).\u001b[34m__name__\u001b[39m+\u001b[38;5;28mstr\u001b[39m(datetime.now())[\u001b[32m8\u001b[39m:\u001b[32m18\u001b[39m],\n\u001b[32m      7\u001b[39m         config=config[\u001b[33m'\u001b[39m\u001b[33mmodel\u001b[39m\u001b[33m'\u001b[39m],\n\u001b[32m      8\u001b[39m     )\n\u001b[32m----> \u001b[39m\u001b[32m9\u001b[39m \u001b[43mtrain\u001b[49m\u001b[43m(\u001b[49m\u001b[43mmodel\u001b[49m\u001b[43m=\u001b[49m\u001b[43mmodel\u001b[49m\u001b[43m,\u001b[49m\u001b[43m \u001b[49m\u001b[43moptimizer\u001b[49m\u001b[43m=\u001b[49m\u001b[43moptimizer\u001b[49m\u001b[43m,\u001b[49m\u001b[43m \u001b[49m\u001b[43mloss_fn\u001b[49m\u001b[43m=\u001b[49m\u001b[43mloss_fn\u001b[49m\u001b[43m,\u001b[49m\u001b[43m \u001b[49m\u001b[43mdataloaders\u001b[49m\u001b[43m=\u001b[49m\u001b[43mdataloaders\u001b[49m\u001b[43m,\u001b[49m\u001b[43mconfig\u001b[49m\u001b[43m=\u001b[49m\u001b[43mconfig\u001b[49m\u001b[43m[\u001b[49m\u001b[33;43m'\u001b[39;49m\u001b[33;43mtrain\u001b[39;49m\u001b[33;43m'\u001b[39;49m\u001b[43m]\u001b[49m\u001b[43m,\u001b[49m\u001b[43m \u001b[49m\u001b[43mmodel_config\u001b[49m\u001b[43m=\u001b[49m\u001b[43mconfig\u001b[49m\u001b[43m[\u001b[49m\u001b[33;43m'\u001b[39;49m\u001b[33;43mmodel\u001b[39;49m\u001b[33;43m'\u001b[39;49m\u001b[43m]\u001b[49m\u001b[43m,\u001b[49m\u001b[43m \u001b[49m\u001b[43mscheduler\u001b[49m\u001b[43m \u001b[49m\u001b[43m=\u001b[49m\u001b[43m \u001b[49m\u001b[43mscheduler\u001b[49m\u001b[43m,\u001b[49m\u001b[43m \u001b[49m\u001b[43mdevice\u001b[49m\u001b[43m \u001b[49m\u001b[43m=\u001b[49m\u001b[43m \u001b[49m\u001b[43mdevice\u001b[49m\u001b[43m,\u001b[49m\u001b[43m \u001b[49m\u001b[43muse_wandb\u001b[49m\u001b[43m \u001b[49m\u001b[43m=\u001b[49m\u001b[43m \u001b[49m\u001b[43mconfig\u001b[49m\u001b[43m[\u001b[49m\u001b[33;43m'\u001b[39;49m\u001b[33;43muse_wandb\u001b[39;49m\u001b[33;43m'\u001b[39;49m\u001b[43m]\u001b[49m\u001b[43m)\u001b[49m\n",
      "\u001b[36mFile \u001b[39m\u001b[32m~/Documents/sources/templatecv/train.py:106\u001b[39m, in \u001b[36mtrain\u001b[39m\u001b[34m(model, optimizer, loss_fn, dataloaders, config, model_config, scheduler, device, use_wandb)\u001b[39m\n\u001b[32m    104\u001b[39m torch.save(model.state_dict(), model_path)\n\u001b[32m    105\u001b[39m \u001b[38;5;28;01mif\u001b[39;00m use_wandb:\n\u001b[32m--> \u001b[39m\u001b[32m106\u001b[39m     artifact = wandb.Artifact(\u001b[33m\"\u001b[39m\u001b[33mtrained_models\u001b[39m\u001b[33m\"\u001b[39m, \u001b[38;5;28mtype\u001b[39m=\u001b[33m\"\u001b[39m\u001b[33mmodel\u001b[39m\u001b[33m\"\u001b[39m, metadata=model_config)\n\u001b[32m    107\u001b[39m     artifact.add_file(model_name)\n\u001b[32m    108\u001b[39m     artifact.save()\n",
      "\u001b[36mFile \u001b[39m\u001b[32m~/miniconda3/lib/python3.12/site-packages/wandb/sdk/artifacts/_validators.py:116\u001b[39m, in \u001b[36mensure_not_finalized.<locals>.wrapper\u001b[39m\u001b[34m(self, *args, **kwargs)\u001b[39m\n\u001b[32m    114\u001b[39m \u001b[38;5;28;01mif\u001b[39;00m \u001b[38;5;28mself\u001b[39m._final:\n\u001b[32m    115\u001b[39m     \u001b[38;5;28;01mraise\u001b[39;00m ArtifactFinalizedError(fullname=method_fullname, obj=\u001b[38;5;28mself\u001b[39m)\n\u001b[32m--> \u001b[39m\u001b[32m116\u001b[39m \u001b[38;5;28;01mreturn\u001b[39;00m \u001b[43mmethod\u001b[49m\u001b[43m(\u001b[49m\u001b[38;5;28;43mself\u001b[39;49m\u001b[43m,\u001b[49m\u001b[43m \u001b[49m\u001b[43m*\u001b[49m\u001b[43margs\u001b[49m\u001b[43m,\u001b[49m\u001b[43m \u001b[49m\u001b[43m*\u001b[49m\u001b[43m*\u001b[49m\u001b[43mkwargs\u001b[49m\u001b[43m)\u001b[49m\n",
      "\u001b[36mFile \u001b[39m\u001b[32m~/miniconda3/lib/python3.12/site-packages/wandb/sdk/artifacts/artifact.py:1311\u001b[39m, in \u001b[36mArtifact.add_file\u001b[39m\u001b[34m(self, local_path, name, is_tmp, skip_cache, policy, overwrite)\u001b[39m\n\u001b[32m   1288\u001b[39m \u001b[38;5;250m\u001b[39m\u001b[33;03m\"\"\"Add a local file to the artifact.\u001b[39;00m\n\u001b[32m   1289\u001b[39m \n\u001b[32m   1290\u001b[39m \u001b[33;03mArgs:\u001b[39;00m\n\u001b[32m   (...)\u001b[39m\u001b[32m   1308\u001b[39m \u001b[33;03m    ValueError: Policy must be \"mutable\" or \"immutable\"\u001b[39;00m\n\u001b[32m   1309\u001b[39m \u001b[33;03m\"\"\"\u001b[39;00m\n\u001b[32m   1310\u001b[39m \u001b[38;5;28;01mif\u001b[39;00m \u001b[38;5;129;01mnot\u001b[39;00m os.path.isfile(local_path):\n\u001b[32m-> \u001b[39m\u001b[32m1311\u001b[39m     \u001b[38;5;28;01mraise\u001b[39;00m \u001b[38;5;167;01mValueError\u001b[39;00m(\u001b[33mf\u001b[39m\u001b[33m\"\u001b[39m\u001b[33mPath is not a file: \u001b[39m\u001b[38;5;132;01m{\u001b[39;00mlocal_path\u001b[38;5;132;01m!r}\u001b[39;00m\u001b[33m\"\u001b[39m)\n\u001b[32m   1313\u001b[39m name = LogicalPath(name \u001b[38;5;129;01mor\u001b[39;00m os.path.basename(local_path))\n\u001b[32m   1314\u001b[39m digest = md5_file_b64(local_path)\n",
      "\u001b[31mValueError\u001b[39m: Path is not a file: 'DefaultModel_cpuepoch121 09:42:0.pt'"
     ]
    }
   ],
   "source": [
    "from train import train\n",
    "ru = None\n",
    "if config['use_wandb']:\n",
    "    run_name = type(model).__name__+str(datetime.now())[8:18]\n",
    "    wandb.init(\n",
    "        project=config['project'],\n",
    "        name = run_name,\n",
    "        config=config['model'],\n",
    "    )\n",
    "train(model=model, optimizer=optimizer, loss_fn=loss_fn, dataloaders=dataloaders,config=config['train'], model_config=config['model'], scheduler = scheduler, device = device, use_wandb = config['use_wandb'])"
   ]
  },
  {
   "cell_type": "code",
   "execution_count": null,
   "id": "7c16df84",
   "metadata": {},
   "outputs": [],
   "source": [
    "wandb.init(\n",
    "    project=config['project'],\n",
    "    name = type(model).__name__+str(datetime.now())[8:18],\n",
    "    config=config['model'],\n",
    ")"
   ]
  },
  {
   "cell_type": "markdown",
   "id": "4453740a",
   "metadata": {},
   "source": [
    "### Prediction"
   ]
  },
  {
   "cell_type": "code",
   "execution_count": null,
   "id": "813fe4c1",
   "metadata": {},
   "outputs": [],
   "source": [
    "\n",
    "model_artifact = wandb.use_artifact(\"trained-model:latest\")\n",
    "model_dir = model_artifact.download()\n",
    "model_path = os.path.join(model_dir, \"trained_model.pt\")\n",
    "model_config = model_artifact.metadata\n",
    "\n",
    "model = DefaultModel(**model_config)\n",
    "model.load_state_dict(torch.load(model_path))\n",
    "model.to(device)\n",
    "\n",
    "    loss, accuracy, highest_losses, hardest_examples, true_labels, preds = evaluate(model, test_loader)\n",
    "\n",
    "    run.summary.update({\"loss\": loss, \"accuracy\": accuracy})\n",
    "\n",
    "    wandb.log({\"high-loss-examples\":\n",
    "        [wandb.Image(hard_example, caption=str(int(pred)) + \",\" +  str(int(label)))\n",
    "            for hard_example, pred, label in zip(hardest_examples, preds, true_labels)]})\n"
   ]
  },
  {
   "cell_type": "code",
   "execution_count": null,
   "id": "f6e774b3",
   "metadata": {},
   "outputs": [],
   "source": []
  }
 ],
 "metadata": {
  "kernelspec": {
   "display_name": "base",
   "language": "python",
   "name": "python3"
  },
  "language_info": {
   "codemirror_mode": {
    "name": "ipython",
    "version": 3
   },
   "file_extension": ".py",
   "mimetype": "text/x-python",
   "name": "python",
   "nbconvert_exporter": "python",
   "pygments_lexer": "ipython3",
   "version": "3.12.9"
  }
 },
 "nbformat": 4,
 "nbformat_minor": 5
}
